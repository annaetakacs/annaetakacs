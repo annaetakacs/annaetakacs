{
 "cells": [
  {
   "cell_type": "markdown",
   "metadata": {},
   "source": [
    "## Exercise 1/a. \n",
    "Modify the code below to count 'down' in increments of -1 (5 points)"
   ]
  },
  {
   "cell_type": "code",
   "execution_count": 40,
   "metadata": {},
   "outputs": [
    {
     "name": "stdout",
     "output_type": "stream",
     "text": [
      "100\n",
      "99\n",
      "98\n",
      "97\n",
      "96\n",
      "95\n",
      "94\n",
      "93\n",
      "92\n",
      "91\n",
      "90\n",
      "89\n",
      "88\n",
      "87\n",
      "86\n",
      "85\n",
      "84\n",
      "83\n",
      "82\n",
      "81\n",
      "80\n",
      "79\n",
      "78\n",
      "77\n",
      "76\n",
      "75\n",
      "74\n",
      "73\n",
      "72\n",
      "71\n",
      "70\n",
      "69\n",
      "68\n",
      "67\n",
      "66\n",
      "65\n",
      "64\n",
      "63\n",
      "62\n",
      "61\n",
      "60\n",
      "59\n",
      "58\n",
      "57\n",
      "56\n",
      "55\n",
      "54\n",
      "53\n",
      "52\n",
      "51\n",
      "50\n",
      "49\n",
      "48\n",
      "47\n",
      "46\n",
      "45\n",
      "44\n",
      "43\n",
      "42\n",
      "41\n",
      "40\n",
      "39\n",
      "38\n",
      "37\n",
      "36\n",
      "35\n",
      "34\n",
      "33\n",
      "32\n",
      "31\n",
      "30\n",
      "29\n",
      "28\n",
      "27\n",
      "26\n",
      "25\n",
      "24\n",
      "23\n",
      "22\n",
      "21\n",
      "20\n",
      "19\n",
      "18\n",
      "17\n",
      "16\n",
      "15\n",
      "14\n",
      "13\n",
      "12\n",
      "11\n",
      "10\n",
      "9\n",
      "8\n",
      "7\n",
      "6\n",
      "5\n",
      "4\n",
      "3\n",
      "2\n",
      "1\n"
     ]
    }
   ],
   "source": [
    "for word in range(100, 0, -1):\n",
    "    print(word)"
   ]
  },
  {
   "cell_type": "markdown",
   "metadata": {},
   "source": [
    "## Exercise 1/b. \n",
    "Change the code above to count down in increments of -0.5 (5 points)"
   ]
  },
  {
   "cell_type": "code",
   "execution_count": 18,
   "metadata": {},
   "outputs": [
    {
     "name": "stdout",
     "output_type": "stream",
     "text": [
      "100.0\n",
      "99.5\n",
      "99.0\n",
      "98.5\n",
      "98.0\n",
      "97.5\n",
      "97.0\n",
      "96.5\n",
      "96.0\n",
      "95.5\n",
      "95.0\n",
      "94.5\n",
      "94.0\n",
      "93.5\n",
      "93.0\n",
      "92.5\n",
      "92.0\n",
      "91.5\n",
      "91.0\n",
      "90.5\n",
      "90.0\n",
      "89.5\n",
      "89.0\n",
      "88.5\n",
      "88.0\n",
      "87.5\n",
      "87.0\n",
      "86.5\n",
      "86.0\n",
      "85.5\n",
      "85.0\n",
      "84.5\n",
      "84.0\n",
      "83.5\n",
      "83.0\n",
      "82.5\n",
      "82.0\n",
      "81.5\n",
      "81.0\n",
      "80.5\n",
      "80.0\n",
      "79.5\n",
      "79.0\n",
      "78.5\n",
      "78.0\n",
      "77.5\n",
      "77.0\n",
      "76.5\n",
      "76.0\n",
      "75.5\n",
      "75.0\n",
      "74.5\n",
      "74.0\n",
      "73.5\n",
      "73.0\n",
      "72.5\n",
      "72.0\n",
      "71.5\n",
      "71.0\n",
      "70.5\n",
      "70.0\n",
      "69.5\n",
      "69.0\n",
      "68.5\n",
      "68.0\n",
      "67.5\n",
      "67.0\n",
      "66.5\n",
      "66.0\n",
      "65.5\n",
      "65.0\n",
      "64.5\n",
      "64.0\n",
      "63.5\n",
      "63.0\n",
      "62.5\n",
      "62.0\n",
      "61.5\n",
      "61.0\n",
      "60.5\n",
      "60.0\n",
      "59.5\n",
      "59.0\n",
      "58.5\n",
      "58.0\n",
      "57.5\n",
      "57.0\n",
      "56.5\n",
      "56.0\n",
      "55.5\n",
      "55.0\n",
      "54.5\n",
      "54.0\n",
      "53.5\n",
      "53.0\n",
      "52.5\n",
      "52.0\n",
      "51.5\n",
      "51.0\n",
      "50.5\n",
      "50.0\n",
      "49.5\n",
      "49.0\n",
      "48.5\n",
      "48.0\n",
      "47.5\n",
      "47.0\n",
      "46.5\n",
      "46.0\n",
      "45.5\n",
      "45.0\n",
      "44.5\n",
      "44.0\n",
      "43.5\n",
      "43.0\n",
      "42.5\n",
      "42.0\n",
      "41.5\n",
      "41.0\n",
      "40.5\n",
      "40.0\n",
      "39.5\n",
      "39.0\n",
      "38.5\n",
      "38.0\n",
      "37.5\n",
      "37.0\n",
      "36.5\n",
      "36.0\n",
      "35.5\n",
      "35.0\n",
      "34.5\n",
      "34.0\n",
      "33.5\n",
      "33.0\n",
      "32.5\n",
      "32.0\n",
      "31.5\n",
      "31.0\n",
      "30.5\n",
      "30.0\n",
      "29.5\n",
      "29.0\n",
      "28.5\n",
      "28.0\n",
      "27.5\n",
      "27.0\n",
      "26.5\n",
      "26.0\n",
      "25.5\n",
      "25.0\n",
      "24.5\n",
      "24.0\n",
      "23.5\n",
      "23.0\n",
      "22.5\n",
      "22.0\n",
      "21.5\n",
      "21.0\n",
      "20.5\n",
      "20.0\n",
      "19.5\n",
      "19.0\n",
      "18.5\n",
      "18.0\n",
      "17.5\n",
      "17.0\n",
      "16.5\n",
      "16.0\n",
      "15.5\n",
      "15.0\n",
      "14.5\n",
      "14.0\n",
      "13.5\n",
      "13.0\n",
      "12.5\n",
      "12.0\n",
      "11.5\n",
      "11.0\n",
      "10.5\n",
      "10.0\n",
      "9.5\n",
      "9.0\n",
      "8.5\n",
      "8.0\n",
      "7.5\n",
      "7.0\n",
      "6.5\n",
      "6.0\n",
      "5.5\n",
      "5.0\n",
      "4.5\n",
      "4.0\n",
      "3.5\n",
      "3.0\n",
      "2.5\n",
      "2.0\n",
      "1.5\n",
      "1.0\n",
      "0.5\n"
     ]
    }
   ],
   "source": [
    "import numpy as np\n",
    "for word in np.arange(100, 0, -0.5):\n",
    "    print(word)"
   ]
  },
  {
   "cell_type": "markdown",
   "metadata": {},
   "source": [
    "## Exercise 2. \n",
    "Using list comprehension (HINT: [ ]) populate an array whose individual word character lengths are >= 4 (10 points)"
   ]
  },
  {
   "cell_type": "code",
   "execution_count": 3,
   "metadata": {},
   "outputs": [
    {
     "name": "stdout",
     "output_type": "stream",
     "text": [
      "['student']\n",
      "['student', 'went']\n",
      "['student', 'went', 'above']\n",
      "['student', 'went', 'above', 'beyond']\n",
      "['student', 'went', 'above', 'beyond', 'call']\n",
      "['student', 'went', 'above', 'beyond', 'call', 'duty']\n",
      "['student', 'went', 'above', 'beyond', 'call', 'duty', 'homework']\n"
     ]
    }
   ],
   "source": [
    "the_sentence = 'the student went above and beyond the call of duty on the homework'\n",
    "\n",
    "my_ar = list()\n",
    "for word in the_sentence.split():\n",
    "    if len(word) >= 4:\n",
    "        my_ar.append(word)\n",
    "        print(my_ar)"
   ]
  },
  {
   "cell_type": "markdown",
   "metadata": {},
   "source": [
    "## Exercise 3. \n",
    "Fix the errors in the code below and replace the word dog with turtle (10 points)"
   ]
  },
  {
   "cell_type": "code",
   "execution_count": 5,
   "metadata": {},
   "outputs": [
    {
     "name": "stdout",
     "output_type": "stream",
     "text": [
      "the orange cat jumped over the turtle, but the orange cat landed on another orange cat\n"
     ]
    }
   ],
   "source": [
    "import re\n",
    "the_sentence = 'the orange cat jumped over the dog, but the orange cat landed on another orange cat'\n",
    "\n",
    "my_ar = re.sub('dog', 'turtle', the_sentence)\n",
    "print(my_ar)"
   ]
  },
  {
   "cell_type": "markdown",
   "metadata": {},
   "source": [
    "## Exercise 4. \n",
    "Remove all special characters from the sentence except for @ (10 points)"
   ]
  },
  {
   "cell_type": "code",
   "execution_count": 51,
   "metadata": {},
   "outputs": [
    {
     "name": "stdout",
     "output_type": "stream",
     "text": [
      "woah the @student really impressed me and so did you \n"
     ]
    }
   ],
   "source": [
    "the_sentence = 'woah!!! the @student really^ #impressed me, and& so did ??you!!!'\n",
    "the_new_sentence = re.sub('[^a-zA-Z0-9@]+', ' ', the_sentence)\n",
    "print(the_new_sentence)"
   ]
  },
  {
   "cell_type": "markdown",
   "metadata": {},
   "source": [
    "## Exercise 5. \n",
    "Create a sentence, each word seperated by one space, out of the following array and replace any special characters with a no space, except '!', with '' (10 points)"
   ]
  },
  {
   "cell_type": "code",
   "execution_count": 41,
   "metadata": {},
   "outputs": [
    {
     "name": "stdout",
     "output_type": "stream",
     "text": [
      "woah!!! the @student  really^ # impressed me, and& so did ??you!!!\n",
      "woah!!!thestudentreallyimpressedmeandsodidyou!!!\n"
     ]
    }
   ],
   "source": [
    "the_ar = ['woah!!!','the','@student',' really^','# impressed','me,','and&','so','did','??you!!!']\n",
    "sentence = \" \".join(str(x) for x in the_ar)\n",
    "print(sentence)\n",
    "new_sentence = re.sub('[^a-zA-Z0-9!]+', '', sentence)\n",
    "print(new_sentence)"
   ]
  },
  {
   "cell_type": "markdown",
   "metadata": {},
   "source": [
    "## Exercise 6. - Figure this out\n",
    "Create a program that loops 10 times and for each loop generate a random integer between 1 and 10, \n",
    "and print 'even' if the number is even and 'odd' if the number is odd (HINT: import random)\n",
    "if the number is odd (10 points)"
   ]
  },
  {
   "cell_type": "code",
   "execution_count": 13,
   "metadata": {},
   "outputs": [
    {
     "name": "stdout",
     "output_type": "stream",
     "text": [
      "even\n",
      "odd\n",
      "odd\n",
      "even\n",
      "odd\n",
      "odd\n",
      "odd\n",
      "even\n",
      "even\n",
      "even\n"
     ]
    }
   ],
   "source": [
    "import random\n",
    "range_repeat = [1, 2, 3, 4, 5, 6, 7, 8, 9, 10]\n",
    "random.shuffle(range_repeat)\n",
    "for i in range_repeat:\n",
    "    if i % 2 == 0:\n",
    "        print(\"even\")\n",
    "    else:\n",
    "        print(\"odd\")"
   ]
  },
  {
   "cell_type": "markdown",
   "metadata": {},
   "source": [
    "## Exercise 7. \n",
    "Create a program that counts the length of each word in an arbitrary sentence and stores \n",
    "each word and count pair in a pandas dataframe where one column is the word and one column is the \n",
    "word length (number of characters) (10 points)"
   ]
  },
  {
   "cell_type": "code",
   "execution_count": 39,
   "metadata": {},
   "outputs": [
    {
     "name": "stdout",
     "output_type": "stream",
     "text": [
      "        Word  Entity\n",
      "0         az       2\n",
      "1     ibafai       6\n",
      "2     papnak       6\n",
      "3   fapipája       8\n",
      "4        van       3\n",
      "5      ezért       5\n",
      "6         az       2\n",
      "7     ibafai       6\n",
      "8       papi       4\n",
      "9       pipa       4\n",
      "10      papi       4\n",
      "11    fapipa       6\n"
     ]
    }
   ],
   "source": [
    "import pandas as pd\n",
    "def break_sentence(sentence):\n",
    "    panda = pd.DataFrame({'Word': sentence.split(), 'Entity': [len(x) for x in sentence.split()]})\n",
    "    print(panda)\n",
    "\n",
    "sentence = \"az ibafai papnak fapipája van ezért az ibafai papi pipa papi fapipa\"\n",
    "break_sentence(sentence)\n"
   ]
  },
  {
   "cell_type": "markdown",
   "metadata": {},
   "source": [
    "## Exercise 8. \n",
    "Replace the word cat with mouse (10 points)"
   ]
  },
  {
   "cell_type": "code",
   "execution_count": 6,
   "metadata": {},
   "outputs": [
    {
     "name": "stdout",
     "output_type": "stream",
     "text": [
      "the mouse jumped over the dog, but the mouse landed on another mouse!\n"
     ]
    }
   ],
   "source": [
    "the_sentence = 'the cat jumped over the dog, but the cat landed on another cat!'\n",
    "new_sentence = re.sub('cat', 'mouse', the_sentence)\n",
    "print(new_sentence)"
   ]
  },
  {
   "cell_type": "markdown",
   "metadata": {},
   "source": [
    "## Exercise 9. \n",
    "Cleanse the following sentence by removing all special characters \n",
    "except when the hyphen joins to two words and exclamation points (10 points)"
   ]
  },
  {
   "cell_type": "code",
   "execution_count": 7,
   "metadata": {},
   "outputs": [
    {
     "name": "stdout",
     "output_type": "stream",
     "text": [
      "The impact of data-driven marketing approaches!!\n"
     ]
    }
   ],
   "source": [
    "the_sentence = 'The impact*of data-driven$^%&marketing approaches!!'\n",
    "the_new_sentence = re.sub('[^a-zA-Z0-9-!]+', ' ', the_sentence)\n",
    "print(the_new_sentence)"
   ]
  },
  {
   "cell_type": "markdown",
   "metadata": {},
   "source": [
    "## Exercise 10. \n",
    "Write a python program that inputs the sentence below and returns a dictionary\n",
    "that has each unique character as a key and count of that character as the value.\n",
    "(10 points)"
   ]
  },
  {
   "cell_type": "markdown",
   "metadata": {},
   "source": [
    "Solution 1. "
   ]
  },
  {
   "cell_type": "code",
   "execution_count": 77,
   "metadata": {},
   "outputs": [
    {
     "name": "stdout",
     "output_type": "stream",
     "text": [
      "{'h': 4, 'f': 2, 'x': 1, 'r': 2, 'n': 8, 't': 5, 'e': 6, ',': 3, 'b': 1, 's': 5, 'v': 3, 'E': 1, 'l': 1, 'a': 5, 'o': 3, 'y': 4, 'w': 2, ' ': 11, 'i': 7, 'g': 5, 'd': 4}\n"
     ]
    }
   ],
   "source": [
    "from collections import Counter\n",
    "\n",
    "the_sentence = 'Everything flows, and nothing abides, everything gives way, and nothing stays fixed'\n",
    "unique_char = list(set(the_sentence))\n",
    "\n",
    "\n",
    "final_dict = {}\n",
    "for letter in unique_char:\n",
    "    if letter not in final_dict:\n",
    "        final_dict[letter] = []\n",
    "    final_dict[letter] = the_sentence.count(letter)\n",
    "    prev = letter\n",
    "\n",
    "print(final_dict)"
   ]
  },
  {
   "cell_type": "markdown",
   "metadata": {},
   "source": [
    "Solution 2."
   ]
  },
  {
   "cell_type": "code",
   "execution_count": 76,
   "metadata": {},
   "outputs": [
    {
     "name": "stdout",
     "output_type": "stream",
     "text": [
      "Counter({'n': 8, 'i': 7, 'e': 6, 't': 5, 'g': 5, 's': 5, 'a': 5, 'y': 4, 'h': 4, 'd': 4, 'v': 3, 'o': 3, ',': 3, 'r': 2, 'f': 2, 'w': 2, 'E': 1, 'l': 1, 'b': 1, 'x': 1})\n"
     ]
    }
   ],
   "source": [
    "from collections import Counter\n",
    "\n",
    "def count_characters(the_sentence):\n",
    "    new_sentence = re.sub(' ', '', the_sentence)\n",
    "    dictionary = Counter(new_sentence)\n",
    "    print(dictionary)\n",
    "\n",
    "the_sentence = 'Everything flows, and nothing abides, everything gives way, and nothing stays fixed'\n",
    "count_characters(the_sentence)"
   ]
  },
  {
   "cell_type": "code",
   "execution_count": null,
   "metadata": {},
   "outputs": [],
   "source": []
  }
 ],
 "metadata": {
  "kernelspec": {
   "display_name": "Python 3",
   "language": "python",
   "name": "python3"
  },
  "language_info": {
   "codemirror_mode": {
    "name": "ipython",
    "version": 3
   },
   "file_extension": ".py",
   "mimetype": "text/x-python",
   "name": "python",
   "nbconvert_exporter": "python",
   "pygments_lexer": "ipython3",
   "version": "3.7.4"
  }
 },
 "nbformat": 4,
 "nbformat_minor": 2
}
