{
 "cells": [
  {
   "cell_type": "markdown",
   "metadata": {},
   "source": [
    "# Practice exercises"
   ]
  },
  {
   "cell_type": "markdown",
   "metadata": {},
   "source": [
    "### 1. Bubble sort"
   ]
  },
  {
   "cell_type": "code",
   "execution_count": 1,
   "metadata": {},
   "outputs": [
    {
     "name": "stdout",
     "output_type": "stream",
     "text": [
      "Ordered array :\n",
      "5 11 12 21 67 77 99 "
     ]
    }
   ],
   "source": [
    "def bubbleSort(arr): \n",
    "    n = len(arr) \n",
    "   \n",
    "    # Go through all the elements \n",
    "    for i in range(n): \n",
    "        swapped = False\n",
    "  \n",
    "        # Last i elements are already in place \n",
    "        for j in range(0, n - i - 1): \n",
    "   \n",
    "            # Go through the array from 0 to n-i-1. \n",
    "            # Swap if the element found is greater than the next element. \n",
    "            if arr[j] > arr[j+1] : \n",
    "                arr[j], arr[j+1] = arr[j+1], arr[j] \n",
    "                swapped = True\n",
    "  \n",
    "        # If no two elements were swapped by inner loop, break. \n",
    "        if swapped == False: \n",
    "            break\n",
    "\n",
    "# Example array\n",
    "arr = [67, 21, 12, 5, 77, 11, 99] \n",
    "   \n",
    "bubbleSort(arr) \n",
    "   \n",
    "print (\"Ordered array :\") \n",
    "# The below code iterates through the position of all numbers and for each position prints the corresponding number\n",
    "for i in range(len(arr)): \n",
    "    print (\"%d\" % arr[i], end = \" \") "
   ]
  },
  {
   "cell_type": "code",
   "execution_count": null,
   "metadata": {},
   "outputs": [],
   "source": []
  }
 ],
 "metadata": {
  "kernelspec": {
   "display_name": "Python 3",
   "language": "python",
   "name": "python3"
  },
  "language_info": {
   "codemirror_mode": {
    "name": "ipython",
    "version": 3
   },
   "file_extension": ".py",
   "mimetype": "text/x-python",
   "name": "python",
   "nbconvert_exporter": "python",
   "pygments_lexer": "ipython3",
   "version": "3.7.4"
  }
 },
 "nbformat": 4,
 "nbformat_minor": 2
}
